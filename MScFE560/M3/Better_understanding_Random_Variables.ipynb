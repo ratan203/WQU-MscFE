{
  "nbformat": 4,
  "nbformat_minor": 0,
  "metadata": {
    "colab": {
      "provenance": []
    },
    "kernelspec": {
      "name": "python3",
      "display_name": "Python 3"
    },
    "language_info": {
      "name": "python"
    }
  },
  "cells": [
    {
      "cell_type": "markdown",
      "source": [
        "# **Better understanding of Random Variables**\n"
      ],
      "metadata": {
        "id": "pRDQ6HTEFuPz"
      }
    },
    {
      "cell_type": "code",
      "execution_count": null,
      "metadata": {
        "id": "PuoVUvezD7An"
      },
      "outputs": [],
      "source": [
        "# Import important libraries\n",
        "import math as m\n",
        "import matplotlib.pyplot as plt\n"
      ]
    },
    {
      "cell_type": "code",
      "source": [
        "# Define inputs to set the game, please feel free to change this variable\n",
        "\n",
        "#number of coins - defined as y\n",
        "y = 20\n"
      ],
      "metadata": {
        "id": "kjd2AUxEEBcC"
      },
      "execution_count": null,
      "outputs": []
    },
    {
      "cell_type": "code",
      "source": [
        "# Random variable X - number of heads to turn out\n",
        "X = [x for x in range(y+1)]\n",
        "if len(X)<=100:\n",
        "    print(\"possible random variables:\", X)\n",
        "else:\n",
        "    print(\"Kindly input smaller values to allow printing of the random variables\")"
      ],
      "metadata": {
        "colab": {
          "base_uri": "https://localhost:8080/"
        },
        "id": "YG1k6niSEFFx",
        "outputId": "729a1289-f288-4195-c0c4-45650f5d5ffd"
      },
      "execution_count": null,
      "outputs": [
        {
          "output_type": "stream",
          "name": "stdout",
          "text": [
            "possible random variables: [0, 1, 2, 3, 4, 5, 6, 7, 8, 9, 10, 11, 12, 13, 14, 15, 16, 17, 18, 19, 20]\n"
          ]
        }
      ]
    },
    {
      "cell_type": "code",
      "source": [
        "# Probability density function p(x) labeled as p_X\n",
        "p_X = [ (m.factorial(y))/(m.factorial(abs(x-y))*m.factorial(x)*m.pow(2,y)) for x in X ]\n",
        "if len(X)<=100:\n",
        "    print(\"probaility distributions of the variables:\",[round(x,3) for x in p_X])\n",
        "else:\n",
        "    print(\"Kindly input smaller values to allow printing of the probability distributions\")"
      ],
      "metadata": {
        "colab": {
          "base_uri": "https://localhost:8080/"
        },
        "id": "CaXyuX1IEI7D",
        "outputId": "2e906efb-0067-4666-92ed-81764b4c69d8"
      },
      "execution_count": null,
      "outputs": [
        {
          "output_type": "stream",
          "name": "stdout",
          "text": [
            "probaility distributions of the variables: [0.0, 0.0, 0.0, 0.001, 0.005, 0.015, 0.037, 0.074, 0.12, 0.16, 0.176, 0.16, 0.12, 0.074, 0.037, 0.015, 0.005, 0.001, 0.0, 0.0, 0.0]\n"
          ]
        }
      ]
    },
    {
      "cell_type": "code",
      "source": [
        "# Plot the distribution function\n",
        "plt.bar(X,p_X);\n",
        "plt.xlabel(\"Possible number of heads that can arise in the game\")\n",
        "plt.ylabel(\"Probabilities of each values\")\n",
        "plt.title(\"Probability density function plot\");"
      ],
      "metadata": {
        "colab": {
          "base_uri": "https://localhost:8080/",
          "height": 295
        },
        "id": "Dk9XNrrfEu6i",
        "outputId": "bde76cf8-7ca4-43c7-c25a-c841eba8f081"
      },
      "execution_count": null,
      "outputs": [
        {
          "output_type": "display_data",
          "data": {
            "text/plain": [
              "<Figure size 432x288 with 1 Axes>"
            ],
            "image/png": "[encoded data removed]"
          },
          "metadata": {
            "needs_background": "light"
          }
        }
      ]
    },
    {
      "cell_type": "code",
      "source": [
        "#@title\n",
        "# Expected value labelled as Ev - Use to estimate the best answer to have better chances to win the game\n",
        "\n",
        "Ev = sum([px * x for px,x in zip(p_X,X)])\n",
        "Ev"
      ],
      "metadata": {
        "colab": {
          "base_uri": "https://localhost:8080/"
        },
        "cellView": "form",
        "id": "hfSz0ua1Ex0f",
        "outputId": "88a75f93-681b-4162-c583-8fd9a0c97e16"
      },
      "execution_count": null,
      "outputs": [
        {
          "output_type": "execute_result",
          "data": {
            "text/plain": [
              "10.0"
            ]
          },
          "metadata": {},
          "execution_count": 13
        }
      ]
    }
  ]
}